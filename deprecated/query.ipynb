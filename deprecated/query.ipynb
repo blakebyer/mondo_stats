{
 "cells": [
  {
   "cell_type": "markdown",
   "id": "41a3dd6f",
   "metadata": {},
   "source": [
    "# World Health Organization Proportion Query #"
   ]
  },
  {
   "cell_type": "code",
   "execution_count": null,
   "id": "c90db393",
   "metadata": {},
   "outputs": [],
   "source": [
    "!pip install ddf-utils\n",
    "!pip install tqdm"
   ]
  },
  {
   "cell_type": "code",
   "execution_count": null,
   "id": "2eade7c8",
   "metadata": {},
   "outputs": [],
   "source": [
    "import pandas as pd\n",
    "import numpy as np\n",
    "import requests\n",
    "from tqdm import tqdm\n",
    "import json"
   ]
  },
  {
   "cell_type": "code",
   "execution_count": null,
   "id": "61724051",
   "metadata": {},
   "outputs": [
    {
     "data": {
      "text/html": [
       "<div>\n",
       "<style scoped>\n",
       "    .dataframe tbody tr th:only-of-type {\n",
       "        vertical-align: middle;\n",
       "    }\n",
       "\n",
       "    .dataframe tbody tr th {\n",
       "        vertical-align: top;\n",
       "    }\n",
       "\n",
       "    .dataframe thead th {\n",
       "        text-align: right;\n",
       "    }\n",
       "</style>\n",
       "<table border=\"1\" class=\"dataframe\">\n",
       "  <thead>\n",
       "    <tr style=\"text-align: right;\">\n",
       "      <th></th>\n",
       "      <th>IndicatorCode</th>\n",
       "      <th>IndicatorName</th>\n",
       "      <th>Language</th>\n",
       "    </tr>\n",
       "  </thead>\n",
       "  <tbody>\n",
       "    <tr>\n",
       "      <th>0</th>\n",
       "      <td>LEPTO_MORBIDITY</td>\n",
       "      <td>Estimated leptospirosis incidence (per 100 000...</td>\n",
       "      <td>EN</td>\n",
       "    </tr>\n",
       "    <tr>\n",
       "      <th>1</th>\n",
       "      <td>MALARIA005</td>\n",
       "      <td>Malaria incidence per 100 000 population</td>\n",
       "      <td>EN</td>\n",
       "    </tr>\n",
       "    <tr>\n",
       "      <th>2</th>\n",
       "      <td>MDG_0000000020</td>\n",
       "      <td>Incidence of tuberculosis (per 100 000 populat...</td>\n",
       "      <td>EN</td>\n",
       "    </tr>\n",
       "    <tr>\n",
       "      <th>3</th>\n",
       "      <td>NTD_3</td>\n",
       "      <td>Annual incidence of dracunculiasis cases</td>\n",
       "      <td>EN</td>\n",
       "    </tr>\n",
       "    <tr>\n",
       "      <th>4</th>\n",
       "      <td>SA_0000001463_ARCHIVED</td>\n",
       "      <td>Alcoholic psychosis, incidence, per 100,000</td>\n",
       "      <td>EN</td>\n",
       "    </tr>\n",
       "  </tbody>\n",
       "</table>\n",
       "</div>"
      ],
      "text/plain": [
       "            IndicatorCode                                      IndicatorName  \\\n",
       "0         LEPTO_MORBIDITY  Estimated leptospirosis incidence (per 100 000...   \n",
       "1              MALARIA005           Malaria incidence per 100 000 population   \n",
       "2          MDG_0000000020  Incidence of tuberculosis (per 100 000 populat...   \n",
       "3                   NTD_3           Annual incidence of dracunculiasis cases   \n",
       "4  SA_0000001463_ARCHIVED        Alcoholic psychosis, incidence, per 100,000   \n",
       "\n",
       "  Language  \n",
       "0       EN  \n",
       "1       EN  \n",
       "2       EN  \n",
       "3       EN  \n",
       "4       EN  "
      ]
     },
     "execution_count": 36,
     "metadata": {},
     "output_type": "execute_result"
    }
   ],
   "source": [
    "def get_who_data(proportion):\n",
    "    p = requests.get(f\"https://ghoapi.azureedge.net/api/Indicator?$filter=contains(IndicatorName,'{proportion}')\")\n",
    "    proportion_ind = p.json()['value']\n",
    "    indicator_df = pd.DataFrame(proportion_ind)\n",
    "    \n",
    "    c = requests.get(\"https://ghoapi.azureedge.net/api/DIMENSION/COUNTRY/DimensionValues\")\n",
    "    countries = c.json()['value']\n",
    "    country_df = pd.DataFrame(countries)\n",
    "    country_df = country_df.rename(columns={'Code': 'SpatialDim'})\n",
    "\n",
    "    all_proportion = {}\n",
    "\n",
    "    for code in tqdm(indicator_df['IndicatorCode'], desc=f\"Downloading {proportion} indicators\"):\n",
    "        url = f\"https://ghoapi.azureedge.net/api/{code}\"\n",
    "        r = requests.get(url, timeout=30)\n",
    "\n",
    "        if r.status_code == 200:\n",
    "            res_df = pd.DataFrame(r.json()['value'])\n",
    "            res_df['IndicatorCode'] = code\n",
    "            merged = res_df.merge(indicator_df[['IndicatorCode', 'IndicatorName']], on='IndicatorCode', how='left')\n",
    "            all_proportion[code] = merged\n",
    "\n",
    "        else:\n",
    "            print(f\"{code}: HTTP {r.status_code}\")\n",
    "\n",
    "    non_empty = [df for df in all_proportion.values() if not df.empty]\n",
    "\n",
    "    all_df = pd.concat(non_empty, ignore_index=True)\n",
    "\n",
    "    all_df.to_csv(f\"who_{proportion}_data.tsv\", sep='\\t', index=False)\n",
    "\n",
    "    return all_df\n",
    "\n",
    "incidence = get_who_data(\"incidence\")\n",
    "incidence.head()"
   ]
  }
 ],
 "metadata": {
  "kernelspec": {
   "display_name": "Python 3",
   "language": "python",
   "name": "python3"
  },
  "language_info": {
   "codemirror_mode": {
    "name": "ipython",
    "version": 3
   },
   "file_extension": ".py",
   "mimetype": "text/x-python",
   "name": "python",
   "nbconvert_exporter": "python",
   "pygments_lexer": "ipython3",
   "version": "3.11.9"
  }
 },
 "nbformat": 4,
 "nbformat_minor": 5
}
