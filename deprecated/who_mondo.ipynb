{
 "cells": [
  {
   "cell_type": "markdown",
   "id": "f4123094",
   "metadata": {},
   "source": [
    "# World Health Organization to MONDO Matching #"
   ]
  },
  {
   "cell_type": "code",
   "execution_count": null,
   "id": "0e2a9c56",
   "metadata": {},
   "outputs": [],
   "source": [
    "!pip install pydantic-ai"
   ]
  },
  {
   "cell_type": "code",
   "execution_count": null,
   "id": "e72b09d5",
   "metadata": {},
   "outputs": [],
   "source": [
    "import os\n",
    "import requests\n",
    "import json\n",
    "from dotenv import load_dotenv\n",
    "from pydantic_ai import Agent, RunContext, Tool\n",
    "from pydantic import BaseModel, ValidationError, Field\n",
    "from typing import Optional, Literal, List\n",
    "from oaklib import get_adapter\n",
    "from oaklib.datamodels.search import SearchConfiguration\n",
    "import pandas as pd\n",
    "from tqdm import tqdm\n",
    "import asyncio\n",
    "\n",
    "load_dotenv()\n",
    "\n",
    "OPENAI_API_KEY = os.getenv(\"OPENAI_API_KEY\")"
   ]
  },
  {
   "cell_type": "code",
   "execution_count": null,
   "id": "568396d4",
   "metadata": {},
   "outputs": [],
   "source": [
    "mondo = get_adapter(\"ontobee:mondo\")\n",
    "stato = get_adapter(\"ontobee:stato\")"
   ]
  },
  {
   "cell_type": "code",
   "execution_count": null,
   "id": "c126b572",
   "metadata": {},
   "outputs": [],
   "source": [
    "HUMAN_DISEASE_ROOT = \"MONDO:0700096\"\n",
    "\n",
    "def is_human_disease(curie: str) -> bool:\n",
    "    ancestors = set(mondo.ancestors(curie))\n",
    "    return HUMAN_DISEASE_ROOT in ancestors\n",
    "\n",
    "def search_mondo(label: str) -> List[dict]:\n",
    "    \"\"\"Search the MONDO Ontology for disease identifiers.\"\"\"\n",
    "    results = list(mondo.basic_search(label, SearchConfiguration(is_partial=True)))\n",
    "    data = []\n",
    "    for curie in results:\n",
    "        if not is_human_disease(curie):\n",
    "            continue\n",
    "        data.append({\n",
    "            \"id\" : curie,\n",
    "            \"label\" : mondo.label(curie),\n",
    "            \"definition\": mondo.definition(curie),\n",
    "        })\n",
    "    return data\n",
    "\n",
    "def search_stato(label: str) -> List[dict]:\n",
    "    \"\"\"Search the STATO Ontology for Prevalence, Incidence, or Count identifiers.\"\"\"\n",
    "    results = list(stato.basic_search(label))\n",
    "    data = []\n",
    "    for curie in results:\n",
    "        data.append({\n",
    "            \"id\" : curie,\n",
    "            \"label\" : stato.label(curie),\n",
    "            \"definition\": stato.definition(curie),\n",
    "        })\n",
    "    return data"
   ]
  },
  {
   "cell_type": "code",
   "execution_count": null,
   "id": "c58c692e",
   "metadata": {},
   "outputs": [],
   "source": [
    "# Data schema\n",
    "class WHOAnnotation(BaseModel):\n",
    "    IndicatorName: str\n",
    "    MONDO_ID: Optional[str] = None\n",
    "    MONDO_Label: Optional[str] = None\n",
    "    STATO_ID: Optional[str] = None\n",
    "    STATO_Label: Optional[str] = None\n",
    "    Denominator: Optional[int] = None"
   ]
  },
  {
   "cell_type": "code",
   "execution_count": null,
   "id": "608e6487",
   "metadata": {},
   "outputs": [],
   "source": [
    "PROP_AGENT_PROMPT = (\n",
    "    \"\"\"\n",
    "    You are an expert biocurator familiar with the MONDO Disease Ontology and disease terminology. Your task is to help curate ontology terms for given World Health Organization proportion estimates.\n",
    "    The input data is a list of World Health Organization indicators each known as the 'IndicatorName', which has information about whether a statistic is either a prevalence, incidence, or count, and what the disease or characteristic it describes.\n",
    "\n",
    "    After reading the IndicatorName column (one row at a time), use your function calling ability to fill out a TSV with the following six columns:\n",
    "    1. IndicatorName -> leave the same as is in the input TSV\n",
    "    2. MONDO ID -> if a disease or phenotypic entity is contained in the IndicatorName value, use the search_mondo function to search for the disease and return the MONDO ID. If at first you cannot find one, search again with various synonyms. If there is no disease or phenotypic entity in IndicatorName, or a match in MONDO, leave this field blank.\n",
    "    3. MONDO Label -> if a disease or phenotypic entity is contained in the IndicatorName value, use the search_mondo function to search for the disease and return the MONDO Label. If at first you cannot find one, search again with various synonyms. If there is no disease or phenotypic entity in IndicatorName, or a match in MONDO, leave this field blank.\n",
    "    4. STATO ID -> if contained in the IndicatorName value, use the search_stato function to search for one of 'prevalence, incidence, or count' and return the STATO ID\n",
    "    5. STATO Label -> if contained in the IndicatorName value, use the search_stato function to search for one of 'prevalence, incidence, or count' and return the STATO Label\n",
    "    6. Denominator -> strip the denominator from the IndicatorName value. For example, if you see 'per 100,000' input 100000 or if you see 'per 1000' input 1000 into the Denominator field. If there is not a feasible denominator value, leave this field blank.\n",
    "\n",
    "    IMPORTANT: The ontology information gathered from search_mondo and search_stato are the source of truth about these ontologies. Do not create a new term or ID if a match does not exist, just leave the Ontology ID and Label fields blank!\n",
    "    \"\"\"\n",
    ")\n",
    "\n",
    "prop_agent = Agent(\n",
    "    model=\"openai:gpt-4.1\",\n",
    "    output_type=List[WHOAnnotation],\n",
    "    system_prompt=PROP_AGENT_PROMPT,\n",
    "    tools=[search_mondo, search_stato],\n",
    ")"
   ]
  },
  {
   "cell_type": "code",
   "execution_count": null,
   "id": "055661dd",
   "metadata": {},
   "outputs": [],
   "source": [
    "who_df = pd.read_csv(\"who_incidence_data.tsv\", sep=\"\\t\")\n",
    "unique_indicators = who_df['IndicatorName'].dropna().unique()\n",
    "print(unique_indicators)"
   ]
  }
 ],
 "metadata": {
  "kernelspec": {
   "display_name": "Python 3",
   "language": "python",
   "name": "python3"
  },
  "language_info": {
   "codemirror_mode": {
    "name": "ipython",
    "version": 3
   },
   "file_extension": ".py",
   "mimetype": "text/x-python",
   "name": "python",
   "nbconvert_exporter": "python",
   "pygments_lexer": "ipython3",
   "version": "3.11.9"
  }
 },
 "nbformat": 4,
 "nbformat_minor": 5
}
